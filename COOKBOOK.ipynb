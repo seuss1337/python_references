{
  "nbformat": 4,
  "nbformat_minor": 0,
  "metadata": {
    "colab": {
      "name": "COOKBOOK.ipynb",
      "provenance": [],
      "collapsed_sections": []
    },
    "kernelspec": {
      "name": "python3",
      "display_name": "Python 3"
    }
  },
  "cells": [
    {
      "cell_type": "code",
      "metadata": {
        "id": "rfinGaXHsZsE"
      },
      "source": [
        "# PYTHON COOKBOOK"
      ],
      "execution_count": null,
      "outputs": []
    },
    {
      "cell_type": "markdown",
      "metadata": {
        "id": "F9qiRU9-skZK"
      },
      "source": [
        "# PYTHON DATA REFERENCE\n"
      ]
    },
    {
      "cell_type": "code",
      "metadata": {
        "id": "YjqXy-tjspZu"
      },
      "source": [
        "import pandas as pd\n",
        "import numpy as np\n"
      ],
      "execution_count": 3,
      "outputs": []
    },
    {
      "cell_type": "code",
      "metadata": {
        "id": "P7m2wLPFsuyF"
      },
      "source": [
        "pd.read_csv(filename)\n",
        "pd.read_excel(filename)\n",
        "pd.read_json(json_string) \n",
        "(\"/content/drive/My Drive/Colab Notebooks/MYFILE\") #Google colab file path"
      ],
      "execution_count": null,
      "outputs": []
    },
    {
      "cell_type": "markdown",
      "metadata": {
        "id": "tu2orUmds_MA"
      },
      "source": [
        "## READING FILES\n"
      ]
    },
    {
      "cell_type": "code",
      "metadata": {
        "id": "IM3_cfLCtENN"
      },
      "source": [
        "#PANDAS\n",
        "pd.read_csv(filename)\n",
        "pd.read_excel(filename)\n",
        "pd.read_json(json_string) \n",
        "\n",
        "\n"
      ],
      "execution_count": null,
      "outputs": []
    },
    {
      "cell_type": "markdown",
      "metadata": {
        "id": "wT58pmWU4oZn"
      },
      "source": [
        "##WRITING FILES"
      ]
    },
    {
      "cell_type": "code",
      "metadata": {
        "id": "FYIUEobt4tto"
      },
      "source": [
        "# Pandas\n",
        "df.to_csv(filename) # Writes to a CSV file\n",
        "df.to_excel(filename) # Writes to an Excel file\n",
        "df.to_sql(table_name, connection_object) # Writes to a SQL table\n",
        "df.to_json(filename) # Writes to a file in JSON format\n",
        "df.to_html(filename) # Saves as an HTML table\n",
        "df.to_clipboard() # Writes to the clipboard"
      ],
      "execution_count": null,
      "outputs": []
    },
    {
      "cell_type": "markdown",
      "metadata": {
        "id": "JVf0x_DY92b8"
      },
      "source": [
        "## WORKING WITH FILES\n"
      ]
    },
    {
      "cell_type": "code",
      "metadata": {
        "id": "EUg3vMZ--CN7"
      },
      "source": [
        "import os\n",
        "import shutil\n",
        "from os import listdir\n",
        "from os.path import isfile, join\n",
        "from pathlib import Path\n",
        "\n",
        "os.getcwd() #Returns the current working directory. on colab just returns /content\n",
        "os.makedirs(dir) #creates folder\n",
        "shutil.copyfile('/source/file.py', '/destination/file.type') #copys file in same dierctory\n",
        "\n",
        "# Make a list of all files in a folder\n",
        "files = [f for f in listdir(r'/content/drive/My Drive/Colab Notebooks/') if isfile(join(r'/content/drive/My Drive/Colab Notebooks/', f))]\n",
        "# Make a list of all folders within a folder\n",
        "folders = [f for f in listdir(r'/content/drive/My Drive/Colab Notebooks/') if isdir(join(r'/content/drive/My Drive/Colab Notebooks/', f))]\n"
      ],
      "execution_count": null,
      "outputs": []
    },
    {
      "cell_type": "markdown",
      "metadata": {
        "id": "f9k2-kU6tJUP"
      },
      "source": [
        "## DATAFRAMES"
      ]
    },
    {
      "cell_type": "code",
      "metadata": {
        "id": "boprZ4UrtP_V"
      },
      "source": [
        "#SELECTING DATA\n",
        "df[\"col\"] # Returns column with label col as Series\n",
        "df[[col1, col2, col 3, etc]] # Returns Columns as a new DataFrame\n",
        "s.iloc[0] # Returns first row\n",
        "df.iloc[0,:] # First row\n",
        "df.iloc[0,0] # First element of first column\n",
        "df.loc[0]#First row\n",
        "df.loc[[0, 1]] # returns dataframe of first 2 colums\n",
        "df.loc[0:2] # returns dataframe with rows 0 to 2\n",
        "df.loc[df[\"column 2\"] == \"MALE\"] # returns dataframe with all rows where the vale in column 2 is MALES\n"
      ],
      "execution_count": null,
      "outputs": []
    },
    {
      "cell_type": "code",
      "metadata": {
        "id": "KIQjYJuC3sfL"
      },
      "source": [
        "# MANIPULATING DATAFRAMES\n",
        "df.loc[(df[\"column 2\"] == 'MALE'),'column 2']=1 #Converts all values in column 2 to 1 if Male\n",
        "df.dropna() # Drops all rows that contain null values\n",
        "df.dropna(axis=1) # Drops all columns that contain null values\n",
        "df.fillna(x) # Replaces all null values with x\n",
        "df.set_index('column 1') #sets column named column 1 as the row index\n"
      ],
      "execution_count": null,
      "outputs": []
    },
    {
      "cell_type": "code",
      "metadata": {
        "id": "cbBBPwHB35Ip"
      },
      "source": [
        "# JOINING AND COMBINING\n",
        "df1.append(df2) # Adds the rows in df1 to the end of df2 (columns should be identical)\n",
        "pd.concat([df1, df2],axis=1) # Adds the columns in df1 to the end of df2 (rows should be identical)\n",
        "df1.join(df2,on=col1,how='inner') # SQL-style joins the columns in df1 with the columns on df2 where the ro"
      ],
      "execution_count": null,
      "outputs": []
    },
    {
      "cell_type": "code",
      "metadata": {
        "id": "OPD4cDDhETOV"
      },
      "source": [
        "#Exploring\n",
        "df.shape() # Prints number of rows and columns in dataframe\n",
        "df.head(n) # Prints first n rows of the DataFrame\n",
        "df.tail(n) # Prints last n rows of the DataFrame\n",
        "df.info() # Index, Datatype and Memory information\n",
        "df.describe() # Summary statistics for numerical columns\n",
        "s.value_counts(dropna=False) # Views unique values and counts\n",
        "df.apply(pd.Series.value_counts) # Unique values and counts for all columns\n",
        "df.describe() # Summary statistics for numerical columns\n",
        "df.mean() # Returns the mean of all columns\n",
        "df.corr() # Returns the correlation between columns in a DataFrame\n",
        "df.count() # Returns the number of non-null values in each DataFrame column\n",
        "df.max() # Returns the highest value in each column\n",
        "df.min() # Returns the lowest value in each column\n",
        "df.median() # Returns the median of each column\n",
        "df.std() # Returns the standard deviation of each column"
      ],
      "execution_count": null,
      "outputs": []
    },
    {
      "cell_type": "code",
      "metadata": {
        "id": "x5p2s8o4Hzk8"
      },
      "source": [
        "# Iterating\n",
        "\n",
        "#Loop over rows\n",
        "for index, row in df.iterrows():\n",
        "  print(index)\n",
        "#Loop over rows\n",
        "for column_name in df:\n",
        "  print(column_name)\n",
        "\n"
      ],
      "execution_count": null,
      "outputs": []
    },
    {
      "cell_type": "markdown",
      "metadata": {
        "id": "M__56Xku7Iwy"
      },
      "source": [
        "## Working with Excel"
      ]
    },
    {
      "cell_type": "code",
      "metadata": {
        "id": "rC0KDlN67ND9"
      },
      "source": [
        "import openpyxl as xl\n",
        "\n",
        "wb = xl.load_workbook('/content/drive/My Drive/Colab Notebooks/TEST_DATA.xlsx')  \n",
        "sheet = wb.active\n",
        "A1 = sheet['A1'].value\n",
        "A2 = sheet['A2'].value\n",
        "A3 = sheet.cell(row =1, column = 1)\n",
        "\n",
        "sheet['A1'] = \"JP Codes\"\n",
        "sheet.cell(row =1, column =1).value = \"JP Codes\"\n",
        "wb.save(r'/content/drive/My Drive/Colab Notebooks/TEST_DATA.xlsx')  \n"
      ],
      "execution_count": null,
      "outputs": []
    }
  ]
}